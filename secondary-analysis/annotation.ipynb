{
 "cells": [
  {
   "cell_type": "markdown",
   "id": "9528555d",
   "metadata": {},
   "source": [
    "## Heart Disease Appearance - Statistics and Data Analysis Research\n",
    "\n",
    "**Content**:\n",
    "\n",
    "1. [Dataset.](#1)\n",
    "\n",
    "    1.1. [Data source and a brief overview.](#1.1)\n",
    "    \n",
    "    1.2. [Descriptive statistics.](#1.2)\n",
    "    \n",
    "2. [Feature selection.](#2)\n",
    "\n",
    "    2.1. [Linear dependence. Covariance. Normalization.](#2.1)\n",
    "    \n",
    "    2.2. [Research question.](#2.2)\n",
    "    \n",
    "3. [Features analysis.](#3)\n",
    "\n",
    "    3.1. [Numeric features.](#3.1)\n",
    "    \n",
    "    3.2. [Categorical features.](#3.2)\n",
    "    \n",
    "4. [Testing hypothesis.](#4)\n",
    "\n",
    "    4.1. [Feature importance.](#4.1)\n",
    "    \n",
    "    4.2. [Conclusion.](#4.2)\n",
    "\n",
    "\n",
    "### 1. Dataset\n",
    "\n",
    "<a id='1'><a/>\n",
    "\n",
    "#### 1.1. Data source and brief overview\n",
    "    \n",
    "<a id='1.1'><a/>\n",
    "\n",
    "The dataset for this project is the **heart disease** dataset. It is actually a subset of 14 features used for various experiments in medicine. It contains patients' health indicators as well as the **target variable** which represents whether a patient was diagnosed as having heart disease or not.\n",
    "\n",
    "The heart disease dataset was intially created on a base of 4 medical institutions' databases from Switzerland, Hungary, and the US (check https://archive.ics.uci.edu/ml/datasets/heart+disease for more details).\n",
    "\n",
    "The authors of the databases have requested that any publications resulting from the use of the data include the names of the **principal investigator responsible for the data collection at each institution**. They would be:\n",
    "1. Hungarian Institute of Cardiology. Budapest: Andras Janosi, M.D.\n",
    "2. University Hospital, Zurich, Switzerland: William Steinbrunn, M.D.\n",
    "3. University Hospital, Basel, Switzerland: Matthias Pfisterer, M.D.\n",
    "4. V.A. Medical Center, Long Beach and Cleveland Clinic Foundation:Robert Detrano, M.D., Ph.D.\n",
    "\n",
    "**Brief overview**\n",
    "\n",
    "The dataset looks as follows:"
   ]
  },
  {
   "cell_type": "markdown",
   "id": "347f1ebe",
   "metadata": {},
   "source": [
    "<img src='png/dataset.png' width=600/>"
   ]
  },
  {
   "cell_type": "markdown",
   "id": "c7c9565f",
   "metadata": {},
   "source": [
    "There are 1025 observations and 14 features. Every **unit of observation** is a patient and every feature is patients' records. The data is **cross-sectional** since all observations are made before the diagnosis was given and based on the **individual-level** scale because persons' records are presented without aggregation processing (previously, there were social IDs as identificators of each patient).\n",
    "\n",
    "There is a breakdown of features:"
   ]
  },
  {
   "cell_type": "markdown",
   "id": "f696ac2d",
   "metadata": {},
   "source": [
    "* age : age in years\n",
    "* sex : (1 = male; 0 = female)\n",
    "* chest pain type (4 values)\n",
    "* resting blood pressure : resting blood pressure (in mm Hg on admission to the hospital)\n",
    "* serum cholestoral in mg/dl\n",
    "* fasting blood sugar > 120 mg/dl : (1 = true; 0 = false)\n",
    "* resting electrocardiographic results (values 0,1,2)\n",
    "* thalach: maximum heart rate achieved\n",
    "* exang : exercise induced angina (1 = yes; 0 = no)\n",
    "* oldpeak: ST depression induced by exercise relative to rest\n",
    "* slope: the slope of the peak exercise ST segment\n",
    "* ca: number of major vessels (0-3) colored by flourosopy\n",
    "* thal: 0 = normal; 1 = fixed defect; 2 = reversable defect\n",
    "* target : disease (1) or no disease (0)"
   ]
  },
  {
   "cell_type": "markdown",
   "id": "3ce2eb7c",
   "metadata": {},
   "source": [
    "#### 1.2. Descriptive statistics\n",
    "\n",
    "<a id='1.2'><a/>\n",
    "\n",
    "**First view**\n",
    "\n",
    "Aggregated mean values of features grouped by `target` variable:"
   ]
  },
  {
   "cell_type": "markdown",
   "id": "02ecb22a",
   "metadata": {},
   "source": [
    "<img src='png/descriptive-statistics-aggregated.png' width=800/>"
   ]
  },
  {
   "cell_type": "markdown",
   "id": "72c6c13d",
   "metadata": {},
   "source": [
    "Based on the data, it is noticeable that 4 people out of 5 without heart disease (`target` = 0) within our sample are men (`sex` = 1), patients have clearly different subsample means in terms of `cp` variable (probably, homogeneous subsamples could be drawn), `age` shows nothing.\n",
    "\n",
    "Without better knowledge of sample behavior and characteristics (variance, covariance, imbalances, pdf), it is impossible to draw effective conclusions."
   ]
  },
  {
   "cell_type": "markdown",
   "id": "9888cfc8",
   "metadata": {},
   "source": [
    "**Categorical and numerical**\n",
    "\n",
    "Among 14 features, 9 features are categorical and 5 features are numeric.\n",
    "\n",
    "Numeric:"
   ]
  },
  {
   "cell_type": "markdown",
   "id": "0513b1ad",
   "metadata": {},
   "source": [
    "<img src='png/numeric-features.png' width=600/>"
   ]
  },
  {
   "cell_type": "markdown",
   "id": "44972f79",
   "metadata": {},
   "source": [
    "Numeric variables have no insights from the first glance except `oldpeak` one. It has different subsamples means and their distributions are different based on quartile values ($Q_3\\{\\text{ill}\\} = 1.0$, whereas $Q_2\\{\\text{healthy}\\} = 1.4$).\n",
    "\n",
    "Categorical:"
   ]
  },
  {
   "cell_type": "markdown",
   "id": "d2706f42",
   "metadata": {},
   "source": [
    "<img src='png/categorical-features.png' width=700/>"
   ]
  },
  {
   "cell_type": "markdown",
   "id": "47709e13",
   "metadata": {},
   "source": [
    "### 2. Feature selection\n",
    "\n",
    "<a id='2'><a/>\n",
    "\n",
    "Investigation purpose is to figure out variables or set of variables which **strongly relate** to the `target` variable (i.e. could *predict* its behaviour). There are two types of dependence - linear and non-linear.\n",
    "\n",
    "#### 2.1. Linear dependence. Covariance. Normalization.\n",
    "    \n",
    "<a id='2.1'><a/>\n",
    "\n",
    "In statistics, linear dependence is represented as **covariance**:\n",
    "\n",
    "$$\\large\\text{cov}(X,Y) = \\mathbb{E}[(X - \\mathbb{E}(X))(Y - \\mathbb{E}(Y))] = \\mathbb{E}[XY] - \\mathbb{E}(X)\\mathbb{E}(Y)$$\n",
    "\n",
    "**Correlation** (Pearson's correlation) is normalized version of variance and it is represented as a coefficient from |$\\rho$| = 0 (no correlation) to |$\\rho$| = 1.0 (full linear dependence):\n",
    "\n",
    "$$\\large\\rho_{X,Y} = \\text{corr}(X,Y) = \\frac{\\text{cov}(X,Y)}{\\sigma_{X}\\sigma_{Y}} = \\frac{\\mathbb{E}[XY] - \\mathbb{E}(X)\\mathbb{E}(Y)}{\\sigma_{X}\\sigma_{Y}}$$\n",
    "\n",
    "Heart disease dataset correlation coefficients:"
   ]
  },
  {
   "cell_type": "markdown",
   "id": "839aaf2f",
   "metadata": {},
   "source": [
    "<img src='visualizations/correlation-coefficients.png' width=600/>"
   ]
  },
  {
   "cell_type": "markdown",
   "id": "36c256ba",
   "metadata": {},
   "source": [
    "Indeed, the matrix is useful for interpretation of linear dependencies. For instance, `thalach` feature has -0.39 (moderate correlation) coefficient with `age` and only -0.04 (no correlation) with `trestbps`."
   ]
  },
  {
   "cell_type": "markdown",
   "id": "02cdfda6",
   "metadata": {},
   "source": [
    "<img src=\"visualizations/thalach-vs-age-trestbps.png\"/>"
   ]
  },
  {
   "cell_type": "markdown",
   "id": "91cb9eb5",
   "metadata": {},
   "source": [
    "Linear regression illustrated above shows that `thalach` and `trestbps` have no linear dependence. Touching upon **mean squared errors** (MSEs) of regressions above, it is misleading to \"directly\" compare their values since the data is not standardly scaled (i.e. not *normalized*).\n",
    "\n",
    "The key of correlation matrix (mostly) is to explore `target` variable dependencies. As it could be noticed, `target` variable has good correlation coefficients, for example, with `cp`: +0.43, `exang`: -0.44, `oldpeak`: -0.44, `thalach`: +0.42.\n",
    "\n",
    "#### 2.2. Research question\n",
    "\n",
    "<a id='2.2'><a/>\n",
    "\n",
    "Analysis of every feature in a dataset and its relationship to other variables is a thorough process, thus, it is optimal to select several features to start from. Heart rate `thalach`, (it has good correlations with other features and could be very useful), blood pressure `trestbps`, and cholesterol `chol` (these two are taken because they have most clear medical explanation and are numeric, making only two numeric variables (`age` and `oldpeak`) left off) level could play a vital role in human organism. `cp` was previously noticed to potentially have homogeneous subsamples.\n",
    "\n",
    "Using baseline above, there is a list of four features to be explored in depth and the **research question** is:\n",
    "\n",
    "\"*To what extent maximum heart rate, resting blood pressure, cholesterol level and chest pain type contribute to the appearance of heart disease among people (based on medical database we have)?*\"\n",
    "\n",
    "To answer that question, the features will be analyzed in terms of distribution ([section 3](#3)) and base algorithms ([section 4](#4))."
   ]
  },
  {
   "cell_type": "markdown",
   "id": "99de16e0",
   "metadata": {},
   "source": [
    "### 3. Features analysis\n",
    "\n",
    "<a id='3'><a/>\n",
    "\n",
    "#### 3.1. Numeric features.\n",
    "    \n",
    "<a id='3.1'><a/>\n",
    "\n",
    "It is important to know the distributions of variables, which could give an intuition of how variable naturally behaves."
   ]
  },
  {
   "cell_type": "markdown",
   "id": "806dff4b",
   "metadata": {},
   "source": [
    "<img src='visualizations/thalach.png' width=600/>"
   ]
  },
  {
   "cell_type": "markdown",
   "id": "16698185",
   "metadata": {},
   "source": [
    "Maximum heart rate resembles **normal distribution** very much, which is significant distribution for statistics and machine learning since normal distribution is extensively mathematically described (in terms of probability and Central Limit Theorem) and present in many natural phenomena. The whole population could be described knowing its *mean* and *variance* if it is normally distributed.\n",
    "\n",
    "PDFs above overlap and grouping by this feature will not produce very effective results. Since already selected *set* of features is under exploration, any of them could be dropped only after [section 4](#4)."
   ]
  },
  {
   "cell_type": "markdown",
   "id": "d85d3cc6",
   "metadata": {},
   "source": [
    "<img src='visualizations/chol.png' width=600/>"
   ]
  },
  {
   "cell_type": "markdown",
   "id": "15a82994",
   "metadata": {},
   "source": [
    "<img src='visualizations/trestbps.png' width=600/>"
   ]
  },
  {
   "cell_type": "markdown",
   "id": "16ccd312",
   "metadata": {},
   "source": [
    "Knowing `trestbps` parameters only (not using the rest of dataset), one can make predictions similar to coin flip since the distributions of this variable are identical in both subsamples. The situation is a bit better with `chol` feature. And still, the set of features can have strong predicitng power even containing features performing poor when used alone. This kind of relationship is not neccessarily *linear*, most commonly being *non-linear* one."
   ]
  },
  {
   "cell_type": "markdown",
   "id": "18d188da",
   "metadata": {},
   "source": [
    "#### 3.2. Categorical variables\n",
    "\n",
    "<a id='3.2'><a/>\n",
    "\n",
    "Categorical variables are discrete (whereas numeric variables are continuous) and their distribution is better to visualize using *histograms* rather than PDFs."
   ]
  },
  {
   "cell_type": "markdown",
   "id": "ef0474a3",
   "metadata": {},
   "source": [
    "<img src='visualizations/cp.png' width=600/>"
   ]
  },
  {
   "cell_type": "markdown",
   "id": "8c760706",
   "metadata": {},
   "source": [
    "`cp` is a good variable since it contributes to the understanding of the patient's conditions. $\\approx 75\\%$ of patients without disease have typical angina, whereas only $\\approx 23 \\%$ of ill patients have that `cp` type. Probability of person without heart disease having asymtpomatic angina is $P(\\text{cp = 3}|\\text{target = 0}) = 0.065 = 6.5\\%$, while $P(\\text{cp = 2}|\\text{target = 1}) = 0.416 = 41.6\\%$ being almost half of the sample of ill people (based on sample results). Subsequently, `cp` could ensure proper group separation, which is valuable both for analysis and predicting algorithms."
   ]
  },
  {
   "cell_type": "markdown",
   "id": "db9be3c2",
   "metadata": {},
   "source": [
    "### 4. Testing hypothesis\n",
    "\n",
    "<a id='4'><a/>\n",
    "\n",
    "To see the whole performance of the chosen set of variables, algorithm to predict the `target` variable should be applied. `RandomForestClassifier` ensemble method implementation from *scikit-learn* library will be used for that.\n",
    "    \n",
    "#### 4.1. Feature importances\n",
    "    \n",
    "<a id='4.1'><a/>\n",
    "    \n",
    "The score with that set of features is $99.12\\%$. Algorithm is able to predict almost every patient correctly. \n",
    "    \n",
    "*Permutation* scores are more reliable since *inner* scores are affected by linear correlation of variables."
   ]
  },
  {
   "cell_type": "markdown",
   "id": "34e3fe04",
   "metadata": {},
   "source": [
    "<img src='visualizations/4-feature-importances.png' width=800/>"
   ]
  },
  {
   "cell_type": "markdown",
   "id": "943d0af6",
   "metadata": {},
   "source": [
    "As it is illustrated, `cp` and `thalach` variables are the most important ones for the heart disease identification. `trestbps` plays the most insignifiant role. In fact, performing the same research excluding that variable from the chosen set *does not* affect the quality of algorithm predictions."
   ]
  },
  {
   "cell_type": "markdown",
   "id": "9562e7f3",
   "metadata": {},
   "source": [
    "#### 4.2. Conclusion\n",
    "\n",
    "<a id='4.2'><a/>\n",
    "    \n",
    "The answer to research question is explicit. Based on the sample drawn from the whole population of patients from 4 medical institutions, it is found that maximum heart rate achieved, cholesterol level, chest pain type, and resting blood pressure together can give high accuracy predictions. Thus, development of heart disease (i.e. `target` variable) in humans is highly related to those records."
   ]
  }
 ],
 "metadata": {
  "kernelspec": {
   "display_name": "Python 3 (ipykernel)",
   "language": "python",
   "name": "python3"
  },
  "language_info": {
   "codemirror_mode": {
    "name": "ipython",
    "version": 3
   },
   "file_extension": ".py",
   "mimetype": "text/x-python",
   "name": "python",
   "nbconvert_exporter": "python",
   "pygments_lexer": "ipython3",
   "version": "3.9.13"
  }
 },
 "nbformat": 4,
 "nbformat_minor": 5
}
